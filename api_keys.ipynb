{
 "cells": [
  {
   "cell_type": "code",
   "execution_count": null,
   "id": "1f093bfe",
   "metadata": {},
   "outputs": [],
   "source": [
    "# OpenWeatherMap API Key\n",
    "weather_api_key = \"0ac512cb32108ff21e142a742b9cc432\"\n",
    "\n",
    "# Geoapify API Key\n",
    "geoapify_key = \"51beee010ffd4430abf00a3dac0a4575\"\n"
   ]
  }
 ],
 "metadata": {
  "kernelspec": {
   "display_name": "Python 3 (ipykernel)",
   "language": "python",
   "name": "python3"
  },
  "language_info": {
   "codemirror_mode": {
    "name": "ipython",
    "version": 3
   },
   "file_extension": ".py",
   "mimetype": "text/x-python",
   "name": "python",
   "nbconvert_exporter": "python",
   "pygments_lexer": "ipython3",
   "version": "3.10.9"
  }
 },
 "nbformat": 4,
 "nbformat_minor": 5
}
